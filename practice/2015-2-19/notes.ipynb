{
 "metadata": {
  "name": "",
  "signature": "sha256:c5e862416a91c6ae62f89a7a2d96b5d949c8d52cdcdd19a5a92e6edf3a12ce48"
 },
 "nbformat": 3,
 "nbformat_minor": 0,
 "worksheets": [
  {
   "cells": [
    {
     "cell_type": "markdown",
     "metadata": {},
     "source": [
      "# Passive network\n",
      "\n",
      "* Review\n",
      "    * Passive elements\n",
      "        * **Angular frequence ($\\omega$)**\n",
      "        * **Resistor (R) (Graph)**\n",
      "            $$Z=R$$\n",
      "        * **Capacitor (C) (Graph)**\n",
      "            $$Z=\\frac{1}{i\\omega C}$$\n",
      "        * **Inductor (L) (Graph)**\n",
      "            $$Z=i\\omega L$$\n",
      "\n",
      "    * Simple connection\n",
      "        * Parallel (**Graph**)\n",
      "            $$Z=\\frac{Z_1Z_2}{Z_1 + Z_2}$$\n",
      "        * Series (**Graph**)\n",
      "            $$Z=Z_1 + Z_2$$\n",
      "\n",
      "* Resistor network\n",
      "    $$\\frac{RR_2}{R_2+R}+R_1=R$$\n",
      "    $$RR_2=(R-R_1)(R+R_2)$$\n",
      "    $$RR_2=R^2-R_1R+R_2R-R_1R_2$$\n",
      "    $$R^2-R_1R-R_1R_2=0$$\n",
      "    $$R=\\frac{R_1\\pm\\sqrt{R_1^2+2R_1R_2}}{2}$$"
     ]
    }
   ],
   "metadata": {}
  }
 ]
}