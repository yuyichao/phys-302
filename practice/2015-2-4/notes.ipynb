{
 "metadata": {
  "name": "",
  "signature": "sha256:72d5575157c29097139be8359501313297c871d4f7de21b4b33c4664334b1326"
 },
 "nbformat": 3,
 "nbformat_minor": 0,
 "worksheets": [
  {
   "cells": [
    {
     "cell_type": "markdown",
     "metadata": {},
     "source": [
      "# Uniform Circular Motion\n",
      "\n",
      "* (___BB___) Uniform Circular _Motion_\n",
      "\n",
      "* Only Motion\n",
      "\n",
      "    Not talk about what is causing the motion\n",
      "    **(Not centrifugal force)**\n",
      "\n",
      "* Constant speed along an circle of radius $R$\n",
      "    * (___BB___) Radius $R$\n",
      "    * (___BB___) Constant _speed_ (not velocity): ($v$)\n",
      "    * (___BB___) $2$D\n",
      "\n",
      "* (Another definition) Mathematical description (up to a phase / initial angle)\n",
      "    * Equation (___BB___)\n",
      "        $$\\vec r=R\\left(\\cos(\\omega t)\\ \\hat x + \\sin(\\omega t)\\ \\hat y\\right)$$\n",
      "    * Derive the important quantities $v$ and $a$\n",
      "        $$\\vec v\\equiv\\frac{\\mathbf{d}\\vec r}{\\mathbf{d}t}=\\omega R\\left(-\\sin(\\omega t)\\ \\hat x + \\cos(\\omega t)\\ \\hat y\\right)$$\n",
      "        $$\\vec a\\equiv\\frac{\\mathbf{d}\\vec v}{\\mathbf{d}t}=-\\omega^2R\\left(\\cos(\\omega t)\\ \\hat x + \\sin(\\omega t)\\ \\hat y\\right)=-\\omega^2\\vec r$$\n",
      "\n",
      "* More \"physical\"\n",
      "    * Angular velocity ($\\omega$ (___BB___)) (frequency)\n",
      "\n",
      "        $$\\omega\\equiv\\frac{\\mathbf{d}\\theta}{\\mathbf{d}t}=\\frac{v\\mathbf{d}t}{R\\mathbf{d}t}$$\n",
      "        $$T=\\frac{2\\pi}{\\omega}$$\n",
      "\n",
      "    * Derivation of velocity and acceleration\n",
      "        * Velocity\n",
      "            * Amplitude & direction\n",
      "            * Vector derivative, $\\Delta \\theta$\n",
      "        * Acceleration\n",
      "            * The circular motion of velocity\n",
      "            * Direction of acceleration\n",
      "\n",
      "    * Relation to constant acceleration motion\n",
      "        * Decomposition of acceleration\n",
      "        * Work"
     ]
    }
   ],
   "metadata": {}
  }
 ]
}