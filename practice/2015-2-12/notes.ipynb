{
 "metadata": {
  "name": "",
  "signature": "sha256:ae0d76f77e23bc5f73cdfd04bb2d5e13d1dda2ed50f5bae00d20ecb3c465fed1"
 },
 "nbformat": 3,
 "nbformat_minor": 0,
 "worksheets": [
  {
   "cells": [
    {
     "cell_type": "markdown",
     "metadata": {},
     "source": [
      "# Moment of Inertia\n",
      "\n",
      "* **Moment of inertia ($I$)**\n",
      "    * Used to describe rotation\n",
      "    * *Role**?***\n",
      "    * **Angular velocity ($\\omega$)**\n",
      "    * **Angular momentum ($L=I\\omega$)**\n",
      "\n",
      "* 2D is simple, what about 3D\n",
      "\n",
      "    $$\\mathbf{d}\\vec L = \\vec r\\times\\mathbf{d}\\vec p$$\n",
      "    $$=\\vec r\\times(\\vec\\omega\\times\\vec r)\\mathbf{d}m$$\n",
      "    $$=(r^2\\vec\\omega-(\\vec r\\cdot\\vec\\omega)\\vec r)\\mathbf{d}m$$\n",
      "\n",
      "    * *Difference from 2D**?***\n",
      "\n",
      "    $$\\vec L\\not\\parallel\\vec\\omega$$\n",
      "\n",
      "    * One thing in common. $I$ is a linear map from $\\vec\\omega$ to $\\vec L$\n",
      "    * **$I$ is not a number but a matrix**\n",
      "\n",
      "        $$I=\\int(r^2-\\vec r:\\vec r)\\mathbf{d}m$$\n",
      "        $$I\\cdot\\vec\\omega=\\int(r^2\\vec\\omega-(\\vec r\\cdot\\vec\\omega)\\vec r)\\mathbf{d}m$$\n",
      "\n",
      "    * Use symmetry to calculate\n",
      "\n",
      "* Example\n",
      "\n",
      "* Significance"
     ]
    }
   ],
   "metadata": {}
  }
 ]
}