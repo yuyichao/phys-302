{
 "metadata": {
  "name": "",
  "signature": "sha256:9a0d25677b2ebaec3207c782d286fe6a9fb8a00550598bb07438209fc780efa9"
 },
 "nbformat": 3,
 "nbformat_minor": 0,
 "worksheets": [
  {
   "cells": [
    {
     "cell_type": "markdown",
     "metadata": {},
     "source": [
      "# Falling and sliding stick\n",
      "\n",
      "* Force when the stick is horizontal\n",
      "\n",
      "$$I_{CM}=\\dfrac{ml^2}{12}$$\n",
      "$$I_{N}=\\dfrac{ml^2}{12}+\\dfrac{ml^2}{4}=\\dfrac{ml^2}{3}$$\n",
      "\n",
      "* (Angular) velocity\n",
      "\n",
      "$$v_{{CM}}=\\omega l\\sin\\theta$$\n",
      "$$E_{k_{CM}}=\\frac{m l^2\\sin^2\\theta}2\\omega^2$$\n",
      "$$E_{k_{\\omega}}=\\frac{I\\omega^2}2=\\frac{m l^2}{24}\\omega^2$$\n",
      "$$\\frac{mgl}{2}(1-\\cos\\theta)=ml^2\\omega^2\\frac{1+12\\sin^2\\theta}{24}$$\n",
      "$$\\omega^2=\\frac{12g(1-\\cos\\theta)}{l(13-12\\cos^2\\theta)}$$\n",
      "$$2\\omega\\beta=\\frac{12g}{l}\\frac{13-24\\cos\\theta+12\\cos^2\\theta}{(13-12\\cos^2\\theta)^2}\\sin\\theta\\omega$$\n"
     ]
    }
   ],
   "metadata": {}
  }
 ]
}