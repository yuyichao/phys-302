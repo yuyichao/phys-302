{
 "cells": [
  {
   "cell_type": "markdown",
   "metadata": {},
   "source": [
    "# Measure resistance in a circuit\n",
    "\n",
    "## Review\n",
    "\n",
    "* What is resistance\n",
    "\n",
    "    **On board**: $R=\\dfrac{U}{I}$\n",
    "\n",
    "* How to measure a stand alone resistor\n",
    "\n",
    "    Use the definition.\n",
    "    Practically, use a Ohm meter.\n",
    "\n",
    "## Resistor in a circuit\n",
    "\n",
    "* Does that work for resistors in a circuit (and why).\n",
    "\n",
    "    * Hint1: no\n",
    "    * Hint2: what happens to the current\n",
    "\n",
    "        **On board**: draw resistor in parallel with unknown.\n",
    "\n",
    "* So how to measure it. (Give example circuit)\n",
    "\n",
    "    **On board**: circuit diagram.\n",
    "\n",
    "    * Method 1, (one resistor known, live circuit)\n",
    "\n",
    "        * Can we know the voltage? **On board**: mark voltages\n",
    "        * Can we know the current? **On board**: mark currents\n",
    "        * What do we know about the current flow?\n",
    "        * How can we calculate the current?\n",
    "            * Hint: what values can we measure.\n",
    "\n",
    "    * Method 2, (unknown resistor, offline circuit)\n",
    "\n",
    "        * Treat like a blackbox.\n",
    "        * What can we possibly measure.\n",
    "        * What do we not want to deal with.\n",
    "        * How do we \"turn it off\".\n",
    "        * Now how to we calculate the resistances.\n"
   ]
  }
 ],
 "metadata": {
  "kernelspec": {
   "display_name": "Python 3",
   "language": "python",
   "name": "python3"
  },
  "language_info": {
   "codemirror_mode": {
    "name": "ipython",
    "version": 3
   },
   "file_extension": ".py",
   "mimetype": "text/x-python",
   "name": "python",
   "nbconvert_exporter": "python",
   "pygments_lexer": "ipython3",
   "version": "3.6.4"
  }
 },
 "nbformat": 4,
 "nbformat_minor": 2
}
