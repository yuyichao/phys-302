{
 "metadata": {
  "name": "",
  "signature": "sha256:e39f1980d3b909898aaf4ad7b4f5cada4543494ae22a948b9a495b2b5b66ca61"
 },
 "nbformat": 3,
 "nbformat_minor": 0,
 "worksheets": [
  {
   "cells": [
    {
     "cell_type": "markdown",
     "metadata": {},
     "source": [
      "# Laplace-Runge-Lenz Vector (LRL)"
     ]
    },
    {
     "cell_type": "markdown",
     "metadata": {},
     "source": [
      "(Funny story of its discovery on Wiki)\n",
      "\n",
      "1. Motion in ___inverse-square central force___\n",
      "    1. What is (___pict___)\n",
      "        $$\\vec F=-\\frac{k\\hat r}{r^2}=-\\frac{k\\vec r}{r^3}$$\n",
      "    2. ___Conserved___ quantities (___?___)\n",
      "        * ___Energy (E)___\n",
      "            $$E=E_k+E_p=\\frac{mv^2}{2}-\\frac{k}{r}$$\n",
      "        * ___Angular momentum ($\\vec L$)___\n",
      "            $$\\vec L=\\vec r\\times\\vec p=m\\vec r\\times\\vec v$$\n",
      "2. ___LRL vector___ (only defined for inverse-square central force)\n",
      "    $$\\vec A=\\vec p\\times\\vec L-mk\\frac{\\vec r}{r}$$\n",
      "    * How to prove (with Newtonian mechanics) (___?___)\n",
      "    * Time derivative\n",
      "    $$\\frac{\\mathbf{d}\\vec p\\times\\vec L}{\\mathbf{d}t}=\\frac{\\mathbf{d}\\vec p}{\\mathbf{d}t}\\times\\vec L=-\\frac{k\\vec r}{r^3}\\times(\\vec r\\times m\\frac{d \\vec r}{dt})$$\n",
      "    $$=-\\frac{mk}{r^3}(\\vec r(\\vec r\\cdot\\frac{d\\vec r}{dt})-r^2\\frac{d\\vec r}{dt})$$\n",
      "    ($\\vec r\\cdot\\dfrac{d\\vec r}{dt}=rv_r=r\\dfrac{dr}{dt}$)\n",
      "    $$=-mk(\\frac{\\vec r}{r^2}\\frac{d r}{dt}-\\frac{1}{r}\\frac{d\\vec r}{dt})$$\n",
      "    ($\\dfrac{1}{r^2}\\dfrac{dr}{dt}=-\\dfrac{d}{dt}\\dfrac{1}{r}$)\n",
      "    $$=mk(\\vec r\\frac{d}{dt}\\frac{1}{r}+\\frac{1}{r}\\frac{d\\vec r}{dt})$$\n",
      "    $$=\\frac{d}{dt}mk\\frac{\\vec r}{r}$$\n",
      "    $$\\frac{d}{dt}\\vec A=\\frac{d}{dt}(\\vec p\\times\\vec L-mk\\frac{\\vec r}{r})=0$$\n",
      "3. ___Application___ (**Label**)\n",
      "    * ___Trajectory___ (___?___)\n",
      "    * conic section\n",
      "        * circle\n",
      "        * ellipse\n",
      "        * parabola\n",
      "        * hyperbola\n",
      "    * ___Use LRL___\n",
      "        * ___Direction___ (___?___) (___pict___)\n",
      "            * 2D motion (___?___)\n",
      "\n",
      "            In plane\n",
      "\n",
      "        * Try dot product\n",
      "            $$\\vec r\\cdot\\vec A=rA\\cos\\theta$$\n",
      "            $$\\vec r\\cdot\\vec A=\\vec r\\cdot(\\vec p\\times\\vec L)-mkr=\\vec L\\cdot(\\vec r\\times\\vec p)-mkr$$\n",
      "            $$=L^2-mkr$$\n",
      "            $$r(A\\cos\\theta+mk)=L^2$$\n",
      "            $$r=\\frac{L^2}{A\\cos\\theta+mk}=\\frac{l}{1+e\\cos\\theta}$$\n",
      "            where\n",
      "            $$l=\\frac{L^2}{mk}$$\n",
      "            $$e=\\frac{A}{mk}$$"
     ]
    }
   ],
   "metadata": {}
  }
 ]
}